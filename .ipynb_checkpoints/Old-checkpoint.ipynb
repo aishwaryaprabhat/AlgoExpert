{
 "cells": [
  {
   "cell_type": "markdown",
   "metadata": {},
   "source": [
    "### 1. Two Sum"
   ]
  },
  {
   "cell_type": "markdown",
   "metadata": {},
   "source": [
    "Good questions to ask:\n",
    "1. Are the elements unique?\n",
    "2. Can we have an empty array?\n",
    "3. Are there negative numbers?\n",
    "4. Can there be multiple pairs?"
   ]
  },
  {
   "cell_type": "markdown",
   "metadata": {},
   "source": [
    "Solution: naive 2 for loops\n",
    "\n",
    "Time complexity: O(n^2)\n",
    "\n",
    "Space complexity: O(1)"
   ]
  },
  {
   "cell_type": "code",
   "execution_count": 2,
   "metadata": {},
   "outputs": [],
   "source": [
    "def twoNumberSum(array, targetSum):\n",
    "\toutput = []\n",
    "\tfor i in range(len(array)):\n",
    "\t\tfor j in range(i+1, len(array)):\n",
    "\t\t\tif array[i]+array[j]==targetSum:\n",
    "\t\t\t\treturn [array[i], array[j]]\n",
    "\treturn output"
   ]
  },
  {
   "cell_type": "markdown",
   "metadata": {},
   "source": [
    "Solution: Use a dictionary to store numbers and perform check in one iteration\n",
    "\n",
    "Time complexity: O(n)\n",
    "\n",
    "Space complexity: O(n)"
   ]
  },
  {
   "cell_type": "code",
   "execution_count": 3,
   "metadata": {},
   "outputs": [],
   "source": [
    "def twoNumberSum(array, targetSum):\n",
    "\tstore = {}\n",
    "\tfor i in range(len(array)):\n",
    "\t\tsub = targetSum-array[i]\n",
    "\t\tif sub in store:\n",
    "\t\t\treturn [array[i], sub]\n",
    "\t\telse:\n",
    "\t\t\tstore[array[i]] = None\n",
    "\treturn []"
   ]
  },
  {
   "cell_type": "markdown",
   "metadata": {},
   "source": [
    "Solution: Sort the array and use double pointers\n",
    "\n",
    "Time complexity: O(nlogn)\n",
    "\n",
    "Space complexity: O(1)"
   ]
  },
  {
   "cell_type": "code",
   "execution_count": 4,
   "metadata": {},
   "outputs": [],
   "source": [
    "def twoNumberSum(array, targetSum):\n",
    "\tarray = sorted(array)\n",
    "\ti = 0\n",
    "\tj = len(array)-1\n",
    "\t\n",
    "\twhile i!=j:\n",
    "\t\tsum_ = array[i]+array[j]\n",
    "\t\tif sum_==targetSum:\n",
    "\t\t\treturn [array[i], array[j]]\n",
    "\t\telif sum_<targetSum:\n",
    "\t\t\ti+=1\n",
    "\t\telse:\n",
    "\t\t\tj-=1\n",
    "\treturn []"
   ]
  },
  {
   "cell_type": "markdown",
   "metadata": {},
   "source": [
    "### 2. Closest Node in BST"
   ]
  },
  {
   "cell_type": "markdown",
   "metadata": {},
   "source": [
    "Given a target value and a BST, find the node with a value closest to the target value"
   ]
  },
  {
   "cell_type": "markdown",
   "metadata": {},
   "source": [
    "Time complexity: O(logn) (Average because worst is O(n) in the case that the BST is a linked list)\n",
    "\n",
    "Space complexity: O(1)"
   ]
  },
  {
   "cell_type": "code",
   "execution_count": 1,
   "metadata": {},
   "outputs": [],
   "source": [
    "def findClosestValueInBst(tree, target):\n",
    "\tclosestNode = tree\n",
    "\tnextNode = tree\n",
    "\tbestDiff = float('inf')\n",
    "\t\n",
    "\twhile nextNode:\n",
    "\t\tdiff = target - nextNode.value\n",
    "\t\tif abs(diff) < bestDiff:\n",
    "\t\t\tbestDiff = abs(diff)\n",
    "\t\t\tclosestNode = nextNode\n",
    "\t\t\n",
    "\t\tif diff<0:\n",
    "\t\t\tnextNode = nextNode.left\n",
    "\t\telif diff>0:\n",
    "\t\t\tnextNode = nextNode.right\n",
    "\t\telse:\n",
    "\t\t\treturn nextNode.value\n",
    "\t\n",
    "\treturn closestNode.value"
   ]
  },
  {
   "cell_type": "markdown",
   "metadata": {},
   "source": [
    "### *3. Is array 2 a subsequence of array 1?"
   ]
  },
  {
   "cell_type": "markdown",
   "metadata": {},
   "source": [
    "Use two pointers, one on arr1 and another on arr2 and compare. Stop when either pointer runs outside of arr.\n",
    "\n",
    "Time complexity: O(n) because we only traverse across the big array once\n",
    "\n",
    "Space complexity: O(1)"
   ]
  },
  {
   "cell_type": "code",
   "execution_count": 1,
   "metadata": {},
   "outputs": [],
   "source": [
    "def isValidSubsequence(array, sequence):\n",
    "\tarrIdx = 0\n",
    "\tseqIdx = 0\n",
    "\t\n",
    "\twhile arrIdx<len(array) and seqIdx<len(sequence):\n",
    "\t\tif array[arrIdx]==sequence[seqIdx]:\n",
    "\t\t\tseqIdx+=1\n",
    "\t\tarrIdx+=1\n",
    "\t\t\n",
    "\treturn seqIdx==len(sequence)"
   ]
  },
  {
   "cell_type": "code",
   "execution_count": 4,
   "metadata": {},
   "outputs": [],
   "source": [
    "def isValidSubsequence(array, sequence):\n",
    "\tseqIdx = 0\n",
    "\tfor value in array:\n",
    "\t\tif seqIdx>=len(sequence):\n",
    "\t\t\tbreak\n",
    "\t\tif value==sequence[seqIdx]:\n",
    "\t\t\tseqIdx+=1\n",
    "\t\n",
    "\treturn seqIdx==len(sequence)"
   ]
  },
  {
   "cell_type": "markdown",
   "metadata": {},
   "source": [
    "### 4. Sum of branches in binary tree"
   ]
  },
  {
   "cell_type": "markdown",
   "metadata": {},
   "source": [
    "Time complexity: O(n)\n",
    "    \n",
    "Space complexity: O(n)"
   ]
  },
  {
   "cell_type": "code",
   "execution_count": 1,
   "metadata": {},
   "outputs": [],
   "source": [
    "# This is the class of the input root. Do not edit it.\n",
    "class BinaryTree:\n",
    "    def __init__(self, value):\n",
    "        self.value = value\n",
    "        self.left = None\n",
    "        self.right = None"
   ]
  },
  {
   "cell_type": "code",
   "execution_count": 2,
   "metadata": {},
   "outputs": [],
   "source": [
    "def branchSums(root):\n",
    "\tsums = []\n",
    "\t\n",
    "\tdef recursiveSum(root, sum_ = 0):\n",
    "\t\tsum_+=root.value\n",
    "\t\t\n",
    "\t\tif root.left:\n",
    "\t\t\trecursiveSum(root.left, sum_)\n",
    "\t\tif root.right:\n",
    "\t\t\trecursiveSum(root.right, sum_)\n",
    "\t\t\n",
    "\t\tif root.left==None and root.right==None:\n",
    "\t\t\tsums.append(sum_)\n",
    "\t\n",
    "\trecursiveSum(root, sum_=0)\n",
    "\treturn sums\n"
   ]
  },
  {
   "cell_type": "markdown",
   "metadata": {},
   "source": [
    "### *5. Sum of Node Depths\n",
    "\n",
    "In a binary tree, calculate the sum of distances of each node to the root"
   ]
  },
  {
   "cell_type": "markdown",
   "metadata": {},
   "source": [
    "Time complexity: O(n)\n",
    "    \n",
    "Space complexity: O(h) where h is the height..in the worst case the binary tree can be a linkedlist so imo O(n) is also correct"
   ]
  },
  {
   "cell_type": "code",
   "execution_count": 4,
   "metadata": {},
   "outputs": [],
   "source": [
    "def nodeDepths(root, runningSum=0):\n",
    "\tif root==None:\n",
    "\t\treturn 0\n",
    "\treturn runningSum+nodeDepths(root.left, runningSum+1)+nodeDepths(root.right, runningSum+1)\n",
    "\n",
    "\n",
    "# This is the class of the input binary tree.\n",
    "class BinaryTree:\n",
    "    def __init__(self, value):\n",
    "        self.value = value\n",
    "        self.left = None\n",
    "        self.right = None"
   ]
  },
  {
   "cell_type": "markdown",
   "metadata": {},
   "source": [
    "### 6. Depth First Search"
   ]
  },
  {
   "cell_type": "markdown",
   "metadata": {},
   "source": [
    "Time complexity: O(V+E)\n",
    "\n",
    "Space complexity: O(E)"
   ]
  },
  {
   "cell_type": "code",
   "execution_count": null,
   "metadata": {},
   "outputs": [],
   "source": [
    "# Do not edit the class below except\n",
    "# for the depthFirstSearch method.\n",
    "# Feel free to add new properties\n",
    "# and methods to the class.\n",
    "class Node:\n",
    "    def __init__(self, name):\n",
    "        self.children = []\n",
    "        self.name = name\n",
    "\n",
    "    def addChild(self, name):\n",
    "        self.children.append(Node(name))\n",
    "        return self\n",
    "\n",
    "    def depthFirstSearch(self, array):\n",
    "\t\tstack = [self]\n",
    "\t\twhile stack!=[]:\n",
    "\t\t\tcurrentNode = stack.pop()\n",
    "\t\t\tfor i in range(len(currentNode.children)-1, -1, -1):\n",
    "\t\t\t\tstack.append(currentNode.children[i])\n",
    "\t\t\tarray.append(currentNode.name)\n",
    "\t\treturn array\n",
    "\t\t"
   ]
  }
 ],
 "metadata": {
  "kernelspec": {
   "display_name": "Python 3",
   "language": "python",
   "name": "python3"
  },
  "language_info": {
   "codemirror_mode": {
    "name": "ipython",
    "version": 3
   },
   "file_extension": ".py",
   "mimetype": "text/x-python",
   "name": "python",
   "nbconvert_exporter": "python",
   "pygments_lexer": "ipython3",
   "version": "3.7.6"
  }
 },
 "nbformat": 4,
 "nbformat_minor": 2
}
