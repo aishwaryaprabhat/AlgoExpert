{
 "cells": [
  {
   "cell_type": "markdown",
   "metadata": {},
   "source": [
    "### Two Sum"
   ]
  },
  {
   "cell_type": "markdown",
   "metadata": {},
   "source": [
    "Good questions to ask:\n",
    "1. Are the elements unique?\n",
    "2. Can we have an empty array?\n",
    "3. Are there negative numbers?\n",
    "4. Can there be multiple pairs?"
   ]
  },
  {
   "cell_type": "markdown",
   "metadata": {},
   "source": [
    "Solution: naive 2 for loops\n",
    "\n",
    "Time complexity: O(n^2)\n",
    "\n",
    "Space complexity: O(1)"
   ]
  },
  {
   "cell_type": "code",
   "execution_count": 2,
   "metadata": {},
   "outputs": [],
   "source": [
    "def twoNumberSum(array, targetSum):\n",
    "\toutput = []\n",
    "\tfor i in range(len(array)):\n",
    "\t\tfor j in range(i+1, len(array)):\n",
    "\t\t\tif array[i]+array[j]==targetSum:\n",
    "\t\t\t\treturn [array[i], array[j]]\n",
    "\treturn output"
   ]
  },
  {
   "cell_type": "markdown",
   "metadata": {},
   "source": [
    "Solution: Use a dictionary to store numbers and perform check in one iteration\n",
    "\n",
    "Time complexity: O(n)\n",
    "\n",
    "Space complexity: O(n)"
   ]
  },
  {
   "cell_type": "code",
   "execution_count": 3,
   "metadata": {},
   "outputs": [],
   "source": [
    "def twoNumberSum(array, targetSum):\n",
    "\tstore = {}\n",
    "\tfor i in range(len(array)):\n",
    "\t\tsub = targetSum-array[i]\n",
    "\t\tif sub in store:\n",
    "\t\t\treturn [array[i], sub]\n",
    "\t\telse:\n",
    "\t\t\tstore[array[i]] = None\n",
    "\treturn []"
   ]
  },
  {
   "cell_type": "code",
   "execution_count": null,
   "metadata": {},
   "outputs": [],
   "source": []
  }
 ],
 "metadata": {
  "kernelspec": {
   "display_name": "Python 3",
   "language": "python",
   "name": "python3"
  },
  "language_info": {
   "codemirror_mode": {
    "name": "ipython",
    "version": 3
   },
   "file_extension": ".py",
   "mimetype": "text/x-python",
   "name": "python",
   "nbconvert_exporter": "python",
   "pygments_lexer": "ipython3",
   "version": "3.6.5"
  }
 },
 "nbformat": 4,
 "nbformat_minor": 2
}
