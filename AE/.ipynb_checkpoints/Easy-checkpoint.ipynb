{
 "cells": [
  {
   "cell_type": "markdown",
   "metadata": {},
   "source": [
    "## 1. Caesar Cipher Encryptor"
   ]
  },
  {
   "cell_type": "markdown",
   "metadata": {},
   "source": [
    "\n",
    "  Given a non-empty string of lowercase letters and a non-negative integer\n",
    "  representing a key, write a function that returns a new string obtained by\n",
    "  shifting every letter in the input string by k positions in the alphabet,\n",
    "  where k is the key.\n",
    "  ```\n",
    "  string = \"xyz\"\n",
    "  key = 2\n",
    "  output = \"zab\"\n",
    "  ```"
   ]
  },
  {
   "cell_type": "code",
   "execution_count": 10,
   "metadata": {},
   "outputs": [],
   "source": [
    "alphabet = \"abcdefghijklmnopqrstuvwxyz\"\n",
    "reverseDict = {}\n",
    "for i in range(len(alphabet)):\n",
    "    reverseDict[alphabet[i]] = i\n",
    "    \n",
    "def caesarCipherEncryptor(string, key):\n",
    "    newString = \"\"\n",
    "    for char in string:\n",
    "        newCharIndex = ((reverseDict[char]+key)%26)\n",
    "        newString = newString+alphabet[newCharIndex]\n",
    "    return newString\n"
   ]
  },
  {
   "cell_type": "code",
   "execution_count": 11,
   "metadata": {},
   "outputs": [
    {
     "data": {
      "text/plain": [
       "'zab'"
      ]
     },
     "execution_count": 11,
     "metadata": {},
     "output_type": "execute_result"
    }
   ],
   "source": [
    "caesarCipherEncryptor(\"xyz\", 2)"
   ]
  },
  {
   "cell_type": "markdown",
   "metadata": {},
   "source": [
    "## 2. Palindrome Check"
   ]
  },
  {
   "cell_type": "markdown",
   "metadata": {},
   "source": [
    "\n",
    "  Write a function that takes in a non-empty string and that returns a boolean\n",
    "  representing whether the string is a palindrome.\n",
    "  \n",
    "  ```\n",
    "  string = \"abcdcba\"\n",
    "  output: true\n",
    "  ```\n"
   ]
  },
  {
   "cell_type": "code",
   "execution_count": null,
   "metadata": {},
   "outputs": [],
   "source": [
    "def isPalindrome(string):\n",
    "    i = 0\n",
    "    j = len(string)-1\n",
    "    \n",
    "    while i<j:\n",
    "        if string[i]==string[j]:\n",
    "            i+=1\n",
    "            j-=1\n",
    "        else:\n",
    "            return False\n",
    "    return True\n",
    "        \n",
    "        "
   ]
  }
 ],
 "metadata": {
  "kernelspec": {
   "display_name": "Python 3",
   "language": "python",
   "name": "python3"
  },
  "language_info": {
   "codemirror_mode": {
    "name": "ipython",
    "version": 3
   },
   "file_extension": ".py",
   "mimetype": "text/x-python",
   "name": "python",
   "nbconvert_exporter": "python",
   "pygments_lexer": "ipython3",
   "version": "3.7.6"
  }
 },
 "nbformat": 4,
 "nbformat_minor": 4
}
