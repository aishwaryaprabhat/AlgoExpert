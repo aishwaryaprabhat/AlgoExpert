{
 "cells": [
  {
   "cell_type": "markdown",
   "metadata": {},
   "source": [
    "## 1. Caesar Cipher Encryptor"
   ]
  },
  {
   "cell_type": "markdown",
   "metadata": {},
   "source": [
    "\n",
    "  Given a non-empty string of lowercase letters and a non-negative integer\n",
    "  representing a key, write a function that returns a new string obtained by\n",
    "  shifting every letter in the input string by k positions in the alphabet,\n",
    "  where k is the key.\n",
    "  ```\n",
    "  string = \"xyz\"\n",
    "  key = 2\n",
    "  output = \"zab\"\n",
    "  ```"
   ]
  },
  {
   "cell_type": "code",
   "execution_count": 10,
   "metadata": {},
   "outputs": [],
   "source": [
    "alphabet = \"abcdefghijklmnopqrstuvwxyz\"\n",
    "reverseDict = {}\n",
    "for i in range(len(alphabet)):\n",
    "    reverseDict[alphabet[i]] = i\n",
    "    \n",
    "def caesarCipherEncryptor(string, key):\n",
    "    newString = \"\"\n",
    "    for char in string:\n",
    "        newCharIndex = ((reverseDict[char]+key)%26)\n",
    "        newString = newString+alphabet[newCharIndex]\n",
    "    return newString\n"
   ]
  },
  {
   "cell_type": "code",
   "execution_count": 11,
   "metadata": {},
   "outputs": [
    {
     "data": {
      "text/plain": [
       "'zab'"
      ]
     },
     "execution_count": 11,
     "metadata": {},
     "output_type": "execute_result"
    }
   ],
   "source": [
    "caesarCipherEncryptor(\"xyz\", 2)"
   ]
  },
  {
   "cell_type": "markdown",
   "metadata": {},
   "source": [
    "## 2. Palindrome Check"
   ]
  },
  {
   "cell_type": "markdown",
   "metadata": {},
   "source": [
    "\n",
    "  Write a function that takes in a non-empty string and that returns a boolean\n",
    "  representing whether the string is a palindrome.\n",
    "  \n",
    "  ```\n",
    "  string = \"abcdcba\"\n",
    "  output: true\n",
    "  ```\n"
   ]
  },
  {
   "cell_type": "code",
   "execution_count": 1,
   "metadata": {},
   "outputs": [],
   "source": [
    "def isPalindrome(string):\n",
    "    i = 0\n",
    "    j = len(string)-1\n",
    "    \n",
    "    while i<j:\n",
    "        if string[i]==string[j]:\n",
    "            i+=1\n",
    "            j-=1\n",
    "        else:\n",
    "            return False\n",
    "    return True\n",
    "        \n",
    "        "
   ]
  },
  {
   "cell_type": "markdown",
   "metadata": {},
   "source": [
    "## *3. Selection Sort"
   ]
  },
  {
   "cell_type": "markdown",
   "metadata": {},
   "source": [
    "![](https://i2.wp.com/algorithms.tutorialhorizon.com/files/2019/01/Selection-Sort-Gif.gif?ssl=1)"
   ]
  },
  {
   "cell_type": "markdown",
   "metadata": {},
   "source": [
    "1. We want to split the array into sorted and unsorted portions\n",
    "2. We start with an empty sorted portion and the whole array is the unsorted portion\n",
    "3. We find the smallest number in the unsorted part of the array and place it into the sorted part\n",
    "4. We repeat till there are no more numbers in the unsorted part of the array"
   ]
  },
  {
   "cell_type": "code",
   "execution_count": 10,
   "metadata": {},
   "outputs": [],
   "source": [
    "def findSmallestElementIndex(array, startingIndex=0):\n",
    "    smallestNumber = float('inf')\n",
    "    smallestIndex = None\n",
    "        \n",
    "    for i in range(startingIndex, len(array)):\n",
    "        if array[i]<smallestNumber:\n",
    "            smallestIndex = i\n",
    "            smallestNumber = array[i]\n",
    "\n",
    "    return smallestIndex, smallestNumber\n",
    "\n",
    "\n",
    "def selectionSort(array):\n",
    "    unsortedStarting = 0\n",
    "    \n",
    "    while unsortedStarting<len(array):\n",
    "        smallestIndex, smallestNumber = findSmallestElementIndex(array, unsortedStarting)\n",
    "        \n",
    "        #swap\n",
    "        array[smallestIndex] = array[unsortedStarting]\n",
    "        array[unsortedStarting] = smallestNumber\n",
    "        \n",
    "        unsortedStarting+=1\n",
    "    \n",
    "    return array\n",
    "        \n",
    "            \n"
   ]
  },
  {
   "cell_type": "markdown",
   "metadata": {},
   "source": [
    "## *4. Insertion Sort"
   ]
  },
  {
   "cell_type": "markdown",
   "metadata": {},
   "source": [
    "![](https://upload.wikimedia.org/wikipedia/commons/9/9c/Insertion-sort-example.gif)"
   ]
  },
  {
   "cell_type": "markdown",
   "metadata": {},
   "source": [
    "1. We again have the notion of an unsorted and sorted portion of the array\n",
    "2. In this case, we take the next element, regardless of whether or not it is the smallest in the unsorted\n",
    "3. Place it correctly in the sorted portion by comparing to all the elements in the sorted part of the array"
   ]
  },
  {
   "cell_type": "code",
   "execution_count": 11,
   "metadata": {},
   "outputs": [],
   "source": [
    "def insertionSort(array):\n",
    "    for i in range(len(array)):\n",
    "        k = i\n",
    "        j = i-1\n",
    "        while j>-1:\n",
    "            if array[k]<array[j]:\n",
    "                temp = array[k]\n",
    "                array[k] = array[j]\n",
    "                array[j] = temp\n",
    "                k = j\n",
    "                j = k-1\n",
    "            else:\n",
    "                break\n",
    "            \n",
    "    return array"
   ]
  },
  {
   "cell_type": "markdown",
   "metadata": {},
   "source": [
    "## *5. Bubble Sort"
   ]
  },
  {
   "cell_type": "markdown",
   "metadata": {},
   "source": [
    "1. We parse the array several times\n",
    "2. Each time we compare pairs of numbers and perform swaps when necessary\n",
    "3. Whenever we pass across the array without performing any swaps, it means the array has been sorted"
   ]
  },
  {
   "cell_type": "markdown",
   "metadata": {},
   "source": [
    "![](https://upload.wikimedia.org/wikipedia/commons/0/06/Bubble-sort.gif)"
   ]
  },
  {
   "cell_type": "code",
   "execution_count": 2,
   "metadata": {},
   "outputs": [],
   "source": [
    "def bubbleSort(array):\n",
    "    while True:\n",
    "        swapPerformed = False\n",
    "        for i in range(0, len(array)-1):\n",
    "            if array[i]>array[i+1]:\n",
    "                swapPerformed = True\n",
    "                temp = array[i]\n",
    "                array[i] = array[i+1]\n",
    "                array[i+1] = temp\n",
    "        if not swapPerformed:\n",
    "            return array"
   ]
  },
  {
   "cell_type": "markdown",
   "metadata": {},
   "source": [
    "## 6. Find 3 largest numbers"
   ]
  },
  {
   "cell_type": "markdown",
   "metadata": {},
   "source": [
    "\n",
    "  Write a function that takes in an array of integers and, without sorting the\n",
    "  input array, returns a sorted array of the three largest integers in the input\n",
    "  array.\n",
    "  \n",
    "  Input: [1,2,3,4,4,5]\n",
    "  \n",
    "  Output: [4,4,5]"
   ]
  },
  {
   "cell_type": "code",
   "execution_count": 3,
   "metadata": {},
   "outputs": [],
   "source": [
    "def findThreeLargestNumbers(array):\n",
    "    top3 = [float('-inf')]*3\n",
    "    \n",
    "    for i in range(len(array)):\n",
    "        if array[i]>=top3[2]:\n",
    "            top3[0], top3[1], top3[2] = top3[1], top3[2], array[i]\n",
    "        elif array[i]>=top3[1]:\n",
    "            top3[0], top3[1] = top3[1], array[i]\n",
    "        elif array[i]>=top3[0]:\n",
    "            top3[0] = array[i]\n",
    "        else:\n",
    "            continue\n",
    "    return top3\n"
   ]
  },
  {
   "cell_type": "markdown",
   "metadata": {},
   "source": [
    "## *7. Binary Search"
   ]
  },
  {
   "cell_type": "markdown",
   "metadata": {},
   "source": [
    "\n",
    "  Write a function that takes in a sorted array of integers as well as a target\n",
    "  integer. The function should use the Binary Search algorithm to determine if\n",
    "  the target integer is contained in the array and should return its index if it\n",
    "  is, otherwise "
   ]
  },
  {
   "cell_type": "code",
   "execution_count": 12,
   "metadata": {},
   "outputs": [],
   "source": [
    "def binarySearch(array, target):\n",
    "    start = 0\n",
    "    end = len(array)-1\n",
    "    \n",
    "    while start<=end:\n",
    "        mid = (end+start)//2\n",
    "        if target==array[mid]:\n",
    "            return mid\n",
    "        elif target<array[mid]:\n",
    "            end = mid-1\n",
    "        else:\n",
    "            start = mid+1\n",
    "            \n",
    "    return -1\n"
   ]
  },
  {
   "cell_type": "markdown",
   "metadata": {},
   "source": [
    "## *8. Product Sum"
   ]
  },
  {
   "cell_type": "markdown",
   "metadata": {},
   "source": [
    "\n",
    "  Write a function that takes in a \"special\" array and returns its product sum.\n",
    "  A \"special\" array is a non-empty array that contains either integers or other\n",
    "  \"special\" arrays. The product sum of a \"special\" array is the sum of its\n",
    "  elements, where \"special\" arrays inside it are summed themselves and then\n",
    "  multiplied by their level of depth.\n"
   ]
  },
  {
   "cell_type": "markdown",
   "metadata": {},
   "source": [
    "Product sum of [x, [y, z]] = x+2(y+z)"
   ]
  },
  {
   "cell_type": "markdown",
   "metadata": {},
   "source": [
    "input = [5, 2, [7, -1], 3, [6, [-13, 8], 4]]"
   ]
  },
  {
   "cell_type": "markdown",
   "metadata": {},
   "source": [
    "output = 12 // calculated as: 5 + 2 + 2 * (7 - 1) + 3 + 2 * (6 + 3 * (-13 + 8) + 4)"
   ]
  },
  {
   "cell_type": "code",
   "execution_count": 39,
   "metadata": {},
   "outputs": [],
   "source": [
    "# Tip: You can use the type(element) function to check whether an item\n",
    "# is a list or an integer.\n",
    "def productSum(array, degree=1):\n",
    "    sum_ = 0\n",
    "    for element in array:\n",
    "        if type(array)==int:\n",
    "            sum_+=element\n",
    "        else:\n",
    "            sum_+=productSum(element, degre+1)\n",
    "    return sum_*degree\n",
    "    \n"
   ]
  },
  {
   "cell_type": "markdown",
   "metadata": {},
   "source": [
    "## 9. Nth Fibonacci"
   ]
  },
  {
   "cell_type": "code",
   "execution_count": 2,
   "metadata": {},
   "outputs": [],
   "source": [
    "memo = {}\n",
    "def getNthFib(n):\n",
    "    if n in memo:\n",
    "        return memo[n]\n",
    "    elif n==1:\n",
    "        return 0 \n",
    "    elif n==2:\n",
    "        return 1\n",
    "    else:\n",
    "        result = getNthFib(n-1)+getNthFib(n-2)\n",
    "        memo[n] = result\n",
    "        return result\n",
    "        \n"
   ]
  },
  {
   "cell_type": "markdown",
   "metadata": {},
   "source": [
    "## *10. DFS"
   ]
  },
  {
   "cell_type": "code",
   "execution_count": 1,
   "metadata": {},
   "outputs": [],
   "source": [
    "# Do not edit the class below except\n",
    "# for the depthFirstSearch method.\n",
    "# Feel free to add new properties\n",
    "# and methods to the class.\n",
    "class Node:\n",
    "    def __init__(self, name):\n",
    "        self.children = []\n",
    "        self.name = name\n",
    "\n",
    "    def addChild(self, name):\n",
    "        self.children.append(Node(name))\n",
    "        return self\n",
    "\n",
    "    def depthFirstSearch(self, array):\n",
    "        stack = [self]\n",
    "        while stack!=[]:\n",
    "            currentNode = stack.pop(-1)\n",
    "            for i in range(len(currentNode.children)-1, -1, -1):\n",
    "                stack.append(currentNode.children[i])\n",
    "            array.append(currentNode.name)\n",
    "        return array"
   ]
  },
  {
   "cell_type": "markdown",
   "metadata": {},
   "source": [
    "## 11. Node Depths"
   ]
  },
  {
   "cell_type": "markdown",
   "metadata": {},
   "source": [
    "\n",
    "  The distance between a node in a Binary Tree and the tree's root is called the\n",
    "  node's depth.\n",
    "  Write a function that takes in a Binary Tree and returns the sum of its nodes'\n",
    "  depths."
   ]
  },
  {
   "cell_type": "markdown",
   "metadata": {},
   "source": [
    "```\n",
    "tree =    1\n",
    "       /     \\\n",
    "      2       3\n",
    "    /   \\   /   \\\n",
    "   4     5 6     7\n",
    " /   \\\n",
    "8     9\n",
    "\n",
    "\n",
    "```\n",
    "\n",
    "output = 16"
   ]
  },
  {
   "cell_type": "code",
   "execution_count": null,
   "metadata": {},
   "outputs": [],
   "source": []
  }
 ],
 "metadata": {
  "kernelspec": {
   "display_name": "Python 3",
   "language": "python",
   "name": "python3"
  },
  "language_info": {
   "codemirror_mode": {
    "name": "ipython",
    "version": 3
   },
   "file_extension": ".py",
   "mimetype": "text/x-python",
   "name": "python",
   "nbconvert_exporter": "python",
   "pygments_lexer": "ipython3",
   "version": "3.7.6"
  }
 },
 "nbformat": 4,
 "nbformat_minor": 4
}
