{
 "cells": [
  {
   "cell_type": "markdown",
   "metadata": {},
   "source": [
    "## Caesar Cipher Encryptor"
   ]
  },
  {
   "cell_type": "markdown",
   "metadata": {},
   "source": [
    "\n",
    "  Given a non-empty string of lowercase letters and a non-negative integer\n",
    "  representing a key, write a function that returns a new string obtained by\n",
    "  shifting every letter in the input string by k positions in the alphabet,\n",
    "  where k is the key.\n",
    "  ```\n",
    "  string = \"xyz\"\n",
    "  key = 2\n",
    "  output = \"zab\"\n",
    "  ```"
   ]
  },
  {
   "cell_type": "code",
   "execution_count": 6,
   "metadata": {},
   "outputs": [],
   "source": [
    "alphabet = \"abcdefghijklmnopqrstuvwxyz\"\n",
    "alphaDict = {}\n",
    "reverseDict = {}\n",
    "for i in range(len(alphabet)):\n",
    "    alphaDict[i] = alphabet[i]\n",
    "    reverseDict[alphabet[i]] = i\n",
    "    \n",
    "def caesarCipherEncryptor(string, key):\n",
    "    newString = \"\"\n",
    "    for char in string:\n",
    "        newCharIndex = ((reverseDict[char]+key)%26)\n",
    "        newString = newString+alphabet[newCharIndex]\n",
    "    return newString\n"
   ]
  },
  {
   "cell_type": "code",
   "execution_count": 7,
   "metadata": {},
   "outputs": [
    {
     "data": {
      "text/plain": [
       "'zab'"
      ]
     },
     "execution_count": 7,
     "metadata": {},
     "output_type": "execute_result"
    }
   ],
   "source": [
    "caesarCipherEncryptor(\"xyz\", 2)"
   ]
  },
  {
   "cell_type": "code",
   "execution_count": null,
   "metadata": {},
   "outputs": [],
   "source": []
  }
 ],
 "metadata": {
  "kernelspec": {
   "display_name": "Python 3",
   "language": "python",
   "name": "python3"
  },
  "language_info": {
   "codemirror_mode": {
    "name": "ipython",
    "version": 3
   },
   "file_extension": ".py",
   "mimetype": "text/x-python",
   "name": "python",
   "nbconvert_exporter": "python",
   "pygments_lexer": "ipython3",
   "version": "3.7.6"
  }
 },
 "nbformat": 4,
 "nbformat_minor": 4
}
