{
 "cells": [
  {
   "cell_type": "markdown",
   "metadata": {},
   "source": [
    "## 1. Caesar Cipher Encryptor"
   ]
  },
  {
   "cell_type": "markdown",
   "metadata": {},
   "source": [
    "\n",
    "  Given a non-empty string of lowercase letters and a non-negative integer\n",
    "  representing a key, write a function that returns a new string obtained by\n",
    "  shifting every letter in the input string by k positions in the alphabet,\n",
    "  where k is the key.\n",
    "  ```\n",
    "  string = \"xyz\"\n",
    "  key = 2\n",
    "  output = \"zab\"\n",
    "  ```"
   ]
  },
  {
   "cell_type": "code",
   "execution_count": 10,
   "metadata": {},
   "outputs": [],
   "source": [
    "alphabet = \"abcdefghijklmnopqrstuvwxyz\"\n",
    "reverseDict = {}\n",
    "for i in range(len(alphabet)):\n",
    "    reverseDict[alphabet[i]] = i\n",
    "    \n",
    "def caesarCipherEncryptor(string, key):\n",
    "    newString = \"\"\n",
    "    for char in string:\n",
    "        newCharIndex = ((reverseDict[char]+key)%26)\n",
    "        newString = newString+alphabet[newCharIndex]\n",
    "    return newString\n"
   ]
  },
  {
   "cell_type": "code",
   "execution_count": 11,
   "metadata": {},
   "outputs": [
    {
     "data": {
      "text/plain": [
       "'zab'"
      ]
     },
     "execution_count": 11,
     "metadata": {},
     "output_type": "execute_result"
    }
   ],
   "source": [
    "caesarCipherEncryptor(\"xyz\", 2)"
   ]
  },
  {
   "cell_type": "markdown",
   "metadata": {},
   "source": [
    "## 2. Palindrome Check"
   ]
  },
  {
   "cell_type": "markdown",
   "metadata": {},
   "source": [
    "\n",
    "  Write a function that takes in a non-empty string and that returns a boolean\n",
    "  representing whether the string is a palindrome.\n",
    "  \n",
    "  ```\n",
    "  string = \"abcdcba\"\n",
    "  output: true\n",
    "  ```\n"
   ]
  },
  {
   "cell_type": "code",
   "execution_count": 1,
   "metadata": {},
   "outputs": [],
   "source": [
    "def isPalindrome(string):\n",
    "    i = 0\n",
    "    j = len(string)-1\n",
    "    \n",
    "    while i<j:\n",
    "        if string[i]==string[j]:\n",
    "            i+=1\n",
    "            j-=1\n",
    "        else:\n",
    "            return False\n",
    "    return True\n",
    "        \n",
    "        "
   ]
  },
  {
   "cell_type": "markdown",
   "metadata": {},
   "source": [
    "## *3. Selection Sort"
   ]
  },
  {
   "cell_type": "markdown",
   "metadata": {},
   "source": [
    "![](https://i2.wp.com/algorithms.tutorialhorizon.com/files/2019/01/Selection-Sort-Gif.gif?ssl=1)"
   ]
  },
  {
   "cell_type": "markdown",
   "metadata": {},
   "source": [
    "1. We want to split the array into sorted and unsorted portions\n",
    "2. We start with an empty sorted portion and the whole array is the unsorted portion\n",
    "3. We find the smallest number in the unsorted part of the array and place it into the sorted part\n",
    "4. We repeat till there are no more numbers in the unsorted part of the array"
   ]
  },
  {
   "cell_type": "code",
   "execution_count": 10,
   "metadata": {},
   "outputs": [],
   "source": [
    "def findSmallestElementIndex(array, startingIndex=0):\n",
    "    smallestNumber = float('inf')\n",
    "    smallestIndex = None\n",
    "        \n",
    "    for i in range(startingIndex, len(array)):\n",
    "        if array[i]<smallestNumber:\n",
    "            smallestIndex = i\n",
    "            smallestNumber = array[i]\n",
    "\n",
    "    return smallestIndex, smallestNumber\n",
    "\n",
    "\n",
    "def selectionSort(array):\n",
    "    unsortedStarting = 0\n",
    "    \n",
    "    while unsortedStarting<len(array):\n",
    "        smallestIndex, smallestNumber = findSmallestElementIndex(array, unsortedStarting)\n",
    "        \n",
    "        #swap\n",
    "        array[smallestIndex] = array[unsortedStarting]\n",
    "        array[unsortedStarting] = smallestNumber\n",
    "        \n",
    "        unsortedStarting+=1\n",
    "    \n",
    "    return array\n",
    "        \n",
    "            \n"
   ]
  },
  {
   "cell_type": "markdown",
   "metadata": {},
   "source": [
    "## *4. Insertion Sort"
   ]
  },
  {
   "cell_type": "markdown",
   "metadata": {},
   "source": [
    "![](https://upload.wikimedia.org/wikipedia/commons/9/9c/Insertion-sort-example.gif)"
   ]
  },
  {
   "cell_type": "markdown",
   "metadata": {},
   "source": [
    "1. We again have the notion of an unsorted and sorted portion of the array\n",
    "2. In this case, we take the next element, regardless of whether or not it is the smallest in the unsorted\n",
    "3. Place it correctly in the sorted portion by comparing to all the elements in the sorted part of the array"
   ]
  },
  {
   "cell_type": "code",
   "execution_count": 11,
   "metadata": {},
   "outputs": [],
   "source": [
    "def insertionSort(array):\n",
    "    for i in range(len(array)):\n",
    "        k = i\n",
    "        j = i-1\n",
    "        while j>-1:\n",
    "            if array[k]<array[j]:\n",
    "                temp = array[k]\n",
    "                array[k] = array[j]\n",
    "                array[j] = temp\n",
    "                k = j\n",
    "                j = k-1\n",
    "            else:\n",
    "                break\n",
    "            \n",
    "    return array"
   ]
  },
  {
   "cell_type": "markdown",
   "metadata": {},
   "source": [
    "## *5. Bubble Sort"
   ]
  },
  {
   "cell_type": "markdown",
   "metadata": {},
   "source": [
    "1. We parse the array several times\n",
    "2. Each time we compare pairs of numbers and perform swaps when necessary\n",
    "3. Whenever we pass across the array without performing any swaps, it means the array has been sorted"
   ]
  },
  {
   "cell_type": "markdown",
   "metadata": {},
   "source": [
    "![](https://upload.wikimedia.org/wikipedia/commons/0/06/Bubble-sort.gif)"
   ]
  },
  {
   "cell_type": "code",
   "execution_count": 2,
   "metadata": {},
   "outputs": [],
   "source": [
    "def bubbleSort(array):\n",
    "    while True:\n",
    "        swapPerformed = False\n",
    "        for i in range(0, len(array)-1):\n",
    "            if array[i]>array[i+1]:\n",
    "                swapPerformed = True\n",
    "                temp = array[i]\n",
    "                array[i] = array[i+1]\n",
    "                array[i+1] = temp\n",
    "        if not swapPerformed:\n",
    "            return array"
   ]
  },
  {
   "cell_type": "code",
   "execution_count": null,
   "metadata": {},
   "outputs": [],
   "source": []
  },
  {
   "cell_type": "markdown",
   "metadata": {},
   "source": [
    "\n",
    "  Write a function that takes in an array of integers and, without sorting the\n",
    "  input array, returns a sorted array of the three largest integers in the input\n",
    "  array.\n"
   ]
  },
  {
   "cell_type": "code",
   "execution_count": null,
   "metadata": {},
   "outputs": [],
   "source": []
  }
 ],
 "metadata": {
  "kernelspec": {
   "display_name": "Python 3",
   "language": "python",
   "name": "python3"
  },
  "language_info": {
   "codemirror_mode": {
    "name": "ipython",
    "version": 3
   },
   "file_extension": ".py",
   "mimetype": "text/x-python",
   "name": "python",
   "nbconvert_exporter": "python",
   "pygments_lexer": "ipython3",
   "version": "3.7.6"
  }
 },
 "nbformat": 4,
 "nbformat_minor": 4
}
