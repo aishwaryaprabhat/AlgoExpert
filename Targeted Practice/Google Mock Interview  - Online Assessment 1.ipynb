{
 "cells": [
  {
   "cell_type": "markdown",
   "metadata": {},
   "source": [
    "### Student Attendance Record I"
   ]
  },
  {
   "cell_type": "markdown",
   "metadata": {},
   "source": [
    "You are given a string representing an attendance record for a student. The record only contains the following three characters:\n",
    "'A' : Absent.\n",
    "'L' : Late.\n",
    "'P' : Present.\n",
    "A student could be rewarded if his attendance record doesn't contain more than one 'A' (absent) or more than two continuous 'L' (late).\n",
    "\n",
    "You need to return whether the student could be rewarded according to his attendance record.\n",
    "\n",
    "Example 1:\n",
    "Input: \"PPALLP\"\n",
    "Output: True\n",
    "Example 2:\n",
    "Input: \"PPALLL\"\n",
    "Output: False"
   ]
  },
  {
   "cell_type": "code",
   "execution_count": 4,
   "metadata": {},
   "outputs": [],
   "source": [
    "class Solution:\n",
    "    def checkRecord(self, s: str) -> bool:\n",
    "        ACount = 0\n",
    "        consecutiveLCount = 0\n",
    "        previousChar = None\n",
    "        for i in range(len(s)):\n",
    "            if s[i]=='A':\n",
    "                ACount+=1\n",
    "                consecutiveLCount = 0\n",
    "            elif s[i]=='L':\n",
    "                consecutiveLCount+=1\n",
    "            else:\n",
    "                consecutiveLCount = 0\n",
    "            \n",
    "            if consecutiveLCount>2:\n",
    "                return False\n",
    "        \n",
    "        if ACount>1:\n",
    "            return False\n",
    "        \n",
    "        return True"
   ]
  },
  {
   "cell_type": "markdown",
   "metadata": {},
   "source": [
    "### *Network Delay Time"
   ]
  },
  {
   "cell_type": "markdown",
   "metadata": {},
   "source": [
    "\n",
    "\n",
    "There are N network nodes, labelled 1 to N.\n",
    "\n",
    "Given times, a list of travel times as directed edges times[i] = (u, v, w), where u is the source node, v is the target node, and w is the time it takes for a signal to travel from source to target.\n",
    "\n",
    "Now, we send a signal from a certain node K. How long will it take for all nodes to receive the signal? If it is impossible, return -1.\n",
    "\n",
    " \n",
    "\n",
    "Example 1:\n",
    "\n",
    "\n",
    "\n",
    "Input: times = [[2,1,1],[2,3,1],[3,4,1]], N = 4, K = 2\n",
    "Output: 2\n",
    " \n",
    "\n",
    "Note:\n",
    "\n",
    "N will be in the range [1, 100].\n",
    "K will be in the range [1, N].\n",
    "The length of times will be in the range [1, 6000].\n",
    "All edges times[i] = (u, v, w) will have 1 <= u, v <= N and 0 <= w <= 100."
   ]
  },
  {
   "cell_type": "markdown",
   "metadata": {},
   "source": [
    "```\n",
    " 1  function Dijkstra(Graph, source):\n",
    " 2\n",
    " 3      create vertex set Q\n",
    " 4\n",
    " 5      for each vertex v in Graph:             \n",
    " 6          dist[v] ← INFINITY                  \n",
    " 7          prev[v] ← UNDEFINED                 \n",
    " 8          add v to Q                      \n",
    "10      dist[source] ← 0                        \n",
    "11      \n",
    "12      while Q is not empty:\n",
    "13          u ← vertex in Q with min dist[u]    \n",
    "14                                              \n",
    "15          remove u from Q \n",
    "16          \n",
    "17          for each neighbor v of u:           // only v that are still in Q\n",
    "18              alt ← dist[u] + length(u, v)\n",
    "19              if alt < dist[v]:               \n",
    "20                  dist[v] ← alt \n",
    "21                  prev[v] ← u \n",
    "22\n",
    "23      return dist[], prev[]\n",
    "```"
   ]
  },
  {
   "cell_type": "code",
   "execution_count": 8,
   "metadata": {},
   "outputs": [],
   "source": [
    "class Solution:\n",
    "    \n",
    "    def convertToGraph(times):\n",
    "        graph = {}\n",
    "        for time in times:\n",
    "            if time[0] in graph:\n",
    "                graph[time[0]][time[1]] = time[2]\n",
    "            else:\n",
    "                graph[time[0]] = {time[1]: time[2]}\n",
    "        return graph\n",
    "    \n",
    "    def pickNode(distances, visited, nodes):\n",
    "        #whichever node has smallest distance to source and has not been visited\n",
    "        nextNode = None\n",
    "        minDistance = float('inf')\n",
    "        for node in nodes:\n",
    "            if not visited[node] and distances[node]<minDistance:\n",
    "                nextNode = node\n",
    "                minDistance = distances[node]\n",
    "        return nextNode\n",
    "    \n",
    "    def networkDelayTime(self, times: list, N: int, K: int) -> int:\n",
    "        graph = self.convertToGraph(times)\n",
    "        distances = {node: float('inf') for node in xrange(1, N+1)}\n",
    "        visited = {node: False for node in xrange(1, N+1)}\n",
    "        nodes = [i for i in range(0, N+1)]\n",
    "        \n",
    "        distances[K] = 0\n",
    "        \n",
    "        \n",
    "        #pick a node\n",
    "        #update distances of neighbours\n",
    "        #add node to seen\n",
    "        \n",
    "        nextNode = self.pickNode(distances, visited, nodes)\n",
    "        while nextNode:\n",
    "            visited[nextNode] = True\n",
    "            for neighbour in graph[nextNode]:\n",
    "                distances[neighbour] = min(distances[neighbour], distances[nextNode]+graph[nextNode][neighbour])\n",
    "            \n",
    "            nextNode = self.pickNode(distances, visited, nodes)\n",
    "        \n",
    "\n",
    "        maxDistance = max(distances.values())\n",
    "        \n",
    "        return maxDistance if maxDistance < float('inf') else -1\n",
    "            \n",
    "        \n",
    "        \n",
    "        \n",
    "        \n",
    "        \n",
    "       \n",
    "        \n",
    "        \n",
    "        \n",
    "            \n",
    "            \n",
    "        "
   ]
  },
  {
   "cell_type": "code",
   "execution_count": 1,
   "metadata": {},
   "outputs": [],
   "source": []
  },
  {
   "cell_type": "code",
   "execution_count": 2,
   "metadata": {},
   "outputs": [
    {
     "data": {
      "text/plain": [
       "{2: {1: 1, 3: 1}, 3: {4: 1}}"
      ]
     },
     "execution_count": 2,
     "metadata": {},
     "output_type": "execute_result"
    }
   ],
   "source": [
    "convertToGraph([[2,1,1],[2,3,1],[3,4,1]])"
   ]
  },
  {
   "cell_type": "code",
   "execution_count": 6,
   "metadata": {},
   "outputs": [
    {
     "data": {
      "text/plain": [
       "nan"
      ]
     },
     "execution_count": 6,
     "metadata": {},
     "output_type": "execute_result"
    }
   ],
   "source": [
    "float('inf')-float('inf')"
   ]
  },
  {
   "cell_type": "code",
   "execution_count": 7,
   "metadata": {},
   "outputs": [
    {
     "data": {
      "text/plain": [
       "inf"
      ]
     },
     "execution_count": 7,
     "metadata": {},
     "output_type": "execute_result"
    }
   ],
   "source": [
    "max([1,2,3,float('inf')])"
   ]
  },
  {
   "cell_type": "code",
   "execution_count": null,
   "metadata": {},
   "outputs": [],
   "source": []
  }
 ],
 "metadata": {
  "kernelspec": {
   "display_name": "Python 3",
   "language": "python",
   "name": "python3"
  },
  "language_info": {
   "codemirror_mode": {
    "name": "ipython",
    "version": 3
   },
   "file_extension": ".py",
   "mimetype": "text/x-python",
   "name": "python",
   "nbconvert_exporter": "python",
   "pygments_lexer": "ipython3",
   "version": "3.7.6"
  }
 },
 "nbformat": 4,
 "nbformat_minor": 4
}
